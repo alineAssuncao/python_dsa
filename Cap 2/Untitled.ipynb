{
 "cells": [
  {
   "cell_type": "code",
   "execution_count": 1,
   "id": "bffd498b-c506-4f04-aaf6-78e687ffac7f",
   "metadata": {},
   "outputs": [
    {
     "name": "stdout",
     "output_type": "stream",
     "text": [
      "olá\n"
     ]
    }
   ],
   "source": [
    "print(\"olá\")"
   ]
  },
  {
   "cell_type": "markdown",
   "id": "9e98bee3-2d55-4b2a-aaf9-16f8e8eda23e",
   "metadata": {},
   "source": [
    "Numeros divididos por 2 e por 4"
   ]
  },
  {
   "cell_type": "code",
   "execution_count": 2,
   "id": "d63e9942-b6ba-4088-bb9c-8bfe021266fe",
   "metadata": {},
   "outputs": [
    {
     "name": "stdout",
     "output_type": "stream",
     "text": [
      "4\n",
      "8\n",
      "12\n",
      "16\n",
      "20\n",
      "24\n",
      "28\n",
      "32\n",
      "36\n",
      "40\n",
      "44\n",
      "48\n",
      "52\n",
      "56\n",
      "60\n",
      "64\n",
      "68\n",
      "72\n",
      "76\n",
      "80\n",
      "84\n",
      "88\n",
      "92\n",
      "96\n",
      "100\n"
     ]
    }
   ],
   "source": [
    "numeros = list(range(1, 101))\n",
    "\n",
    "for numero in numeros:\n",
    "    if numero % 2 == 0 and numero % 4 == 0:\n",
    "        print(numero)"
   ]
  },
  {
   "cell_type": "markdown",
   "id": "892d8a45-98d7-4ccc-b77e-0f59bc15fb02",
   "metadata": {},
   "source": [
    "Numeros divididos por 2 e por 4, agora com list comprehension"
   ]
  },
  {
   "cell_type": "code",
   "execution_count": 4,
   "id": "9b22be37-92d3-4900-9ce8-82d253ba568b",
   "metadata": {},
   "outputs": [
    {
     "name": "stdout",
     "output_type": "stream",
     "text": [
      "[4, 8, 12, 16, 20, 24, 28, 32, 36, 40, 44, 48, 52, 56, 60, 64, 68, 72, 76, 80, 84, 88, 92, 96, 100]\n"
     ]
    }
   ],
   "source": [
    "numeros = list(range(1, 101))\n",
    "\n",
    "pares_div4 = [numero for numero in numeros if numero % 2 == 0 and numero % 4 == 0]\n",
    "\n",
    "print(pares_div4)"
   ]
  },
  {
   "cell_type": "code",
   "execution_count": 5,
   "id": "90593b37-a27d-46f4-9138-a8e3a2d3bbed",
   "metadata": {},
   "outputs": [
    {
     "data": {
      "text/plain": [
       "list"
      ]
     },
     "execution_count": 5,
     "metadata": {},
     "output_type": "execute_result"
    }
   ],
   "source": [
    "type(pares_div4)"
   ]
  },
  {
   "cell_type": "code",
   "execution_count": null,
   "id": "afe15e18-44e5-43e3-a1aa-7b941ecadf6b",
   "metadata": {},
   "outputs": [],
   "source": []
  }
 ],
 "metadata": {
  "kernelspec": {
   "display_name": "Python 3 (ipykernel)",
   "language": "python",
   "name": "python3"
  },
  "language_info": {
   "codemirror_mode": {
    "name": "ipython",
    "version": 3
   },
   "file_extension": ".py",
   "mimetype": "text/x-python",
   "name": "python",
   "nbconvert_exporter": "python",
   "pygments_lexer": "ipython3",
   "version": "3.13.5"
  }
 },
 "nbformat": 4,
 "nbformat_minor": 5
}
